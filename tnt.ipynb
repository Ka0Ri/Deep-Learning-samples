{
 "cells": [
  {
   "cell_type": "code",
   "execution_count": 20,
   "metadata": {},
   "outputs": [],
   "source": [
    "from tqdm import tqdm_notebook as tqdm\n",
    "import torch\n",
    "import torch.optim\n",
    "import torchnet as tnt\n",
    "from torchvision.datasets.mnist import MNIST\n",
    "from torchnet.engine import Engine\n",
    "from torch.autograd import Variable\n",
    "import torch.nn.functional as F\n",
    "from torch.nn.init import kaiming_normal\n",
    "\n",
    "\n",
    "def get_iterator(mode):\n",
    "    ds = MNIST(root='./', download=True, train=mode)\n",
    "    data = getattr(ds, 'train_data' if mode else 'test_data')\n",
    "    labels = getattr(ds, 'train_labels' if mode else 'test_labels')\n",
    "    tds = tnt.dataset.TensorDataset([data, labels])\n",
    "    return tds.parallel(batch_size=128, num_workers=4, shuffle=mode)\n",
    "\n",
    "\n",
    "def conv_init(ni, no, k):\n",
    "    return kaiming_normal(torch.Tensor(no, ni, k, k))\n",
    "\n",
    "\n",
    "def linear_init(ni, no):\n",
    "    return kaiming_normal(torch.Tensor(no, ni))\n",
    "\n",
    "\n",
    "def f(params, inputs, mode):\n",
    "    o = inputs.view(inputs.size(0), 1, 28, 28)\n",
    "    o = F.conv2d(o, params['conv0.weight'], params['conv0.bias'], stride=2)\n",
    "    o = F.relu(o)\n",
    "    o = F.conv2d(o, params['conv1.weight'], params['conv1.bias'], stride=2)\n",
    "    o = F.relu(o)\n",
    "    o = o.view(o.size(0), -1)\n",
    "    o = F.linear(o, params['linear2.weight'], params['linear2.bias'])\n",
    "    o = F.relu(o)\n",
    "    o = F.linear(o, params['linear3.weight'], params['linear3.bias'])\n",
    "    return o\n",
    "\n",
    "\n",
    "def main():\n",
    "    params = {\n",
    "        'conv0.weight': conv_init(1, 50, 5), 'conv0.bias': torch.zeros(50),\n",
    "        'conv1.weight': conv_init(50, 50, 5), 'conv1.bias': torch.zeros(50),\n",
    "        'linear2.weight': linear_init(800, 512), 'linear2.bias': torch.zeros(512),\n",
    "        'linear3.weight': linear_init(512, 10), 'linear3.bias': torch.zeros(10),\n",
    "    }\n",
    "    params = {k: Variable(v, requires_grad=True) for k, v in params.items()}\n",
    "\n",
    "    optimizer = torch.optim.SGD(\n",
    "        params.values(), lr=0.01, momentum=0.9, weight_decay=0.0005)\n",
    "\n",
    "    engine = Engine()\n",
    "    meter_loss = tnt.meter.AverageValueMeter()\n",
    "    classerr = tnt.meter.ClassErrorMeter(accuracy=True)\n",
    "\n",
    "    def h(sample):\n",
    "        inputs = Variable(sample[0].float() / 255.0)\n",
    "        targets = Variable(torch.LongTensor(sample[1]))\n",
    "        o = f(params, inputs, sample[2])\n",
    "        return F.cross_entropy(o, targets), o\n",
    "\n",
    "    def reset_meters():\n",
    "        classerr.reset()\n",
    "        meter_loss.reset()\n",
    "\n",
    "    def on_sample(state):\n",
    "        state['sample'].append(state['train'])\n",
    "\n",
    "    def on_forward(state):\n",
    "        classerr.add(state['output'].data,\n",
    "                     torch.LongTensor(state['sample'][1]))\n",
    "        meter_loss.add(state['loss'].item())\n",
    "\n",
    "    def on_start_epoch(state):\n",
    "        reset_meters()\n",
    "        state['iterator'] = tqdm(state['iterator'], desc=\"[Epoch %d / 10]\"%(state['epoch'] + 1))\n",
    "\n",
    "    def on_end_epoch(state):\n",
    "        print('Training loss: %.4f, accuracy: %.2f%%' % (meter_loss.value()[0], classerr.value()[0]))\n",
    "        # do validation at the end of each epoch\n",
    "        reset_meters()\n",
    "        engine.test(h, get_iterator(False))\n",
    "        print('Testing loss: %.4f, accuracy: %.2f%%' % (meter_loss.value()[0], classerr.value()[0]))\n",
    "\n",
    "    engine.hooks['on_sample'] = on_sample\n",
    "    engine.hooks['on_forward'] = on_forward\n",
    "    engine.hooks['on_start_epoch'] = on_start_epoch\n",
    "    engine.hooks['on_end_epoch'] = on_end_epoch\n",
    "    engine.train(h, get_iterator(True), maxepoch=10, optimizer=optimizer)"
   ]
  },
  {
   "cell_type": "code",
   "execution_count": 21,
   "metadata": {},
   "outputs": [
    {
     "name": "stderr",
     "output_type": "stream",
     "text": [
      "/usr/local/lib/python3.5/dist-packages/ipykernel_launcher.py:21: UserWarning: nn.init.kaiming_normal is now deprecated in favor of nn.init.kaiming_normal_.\n",
      "/usr/local/lib/python3.5/dist-packages/ipykernel_launcher.py:25: UserWarning: nn.init.kaiming_normal is now deprecated in favor of nn.init.kaiming_normal_.\n"
     ]
    },
    {
     "data": {
      "application/vnd.jupyter.widget-view+json": {
       "model_id": "8065051ab08941efbc6ad9c4d1af62b0",
       "version_major": 2,
       "version_minor": 0
      },
      "text/plain": [
       "HBox(children=(IntProgress(value=0, description='[Epoch 0/ 10]', max=469, style=ProgressStyle(description_widt…"
      ]
     },
     "metadata": {},
     "output_type": "display_data"
    },
    {
     "name": "stdout",
     "output_type": "stream",
     "text": [
      "Training loss: 0.2467, accuracy: 92.62%\n",
      "Testing loss: 0.0988, accuracy: 97.06%\n"
     ]
    },
    {
     "data": {
      "application/vnd.jupyter.widget-view+json": {
       "model_id": "218ed38457ad48d2a9f2dec8f4dd9044",
       "version_major": 2,
       "version_minor": 0
      },
      "text/plain": [
       "HBox(children=(IntProgress(value=0, description='[Epoch 1/ 10]', max=469, style=ProgressStyle(description_widt…"
      ]
     },
     "metadata": {},
     "output_type": "display_data"
    },
    {
     "name": "stdout",
     "output_type": "stream",
     "text": [
      "Training loss: 0.0851, accuracy: 97.42%\n",
      "Testing loss: 0.0751, accuracy: 97.68%\n"
     ]
    },
    {
     "data": {
      "application/vnd.jupyter.widget-view+json": {
       "model_id": "72bcb0a9016645f5bf0d0e4c5dac199e",
       "version_major": 2,
       "version_minor": 0
      },
      "text/plain": [
       "HBox(children=(IntProgress(value=0, description='[Epoch 2/ 10]', max=469, style=ProgressStyle(description_widt…"
      ]
     },
     "metadata": {},
     "output_type": "display_data"
    },
    {
     "name": "stdout",
     "output_type": "stream",
     "text": [
      "Training loss: 0.0620, accuracy: 98.10%\n",
      "Testing loss: 0.0561, accuracy: 98.08%\n"
     ]
    },
    {
     "data": {
      "application/vnd.jupyter.widget-view+json": {
       "model_id": "10a1a0580ea0420eb0ef0affee77303c",
       "version_major": 2,
       "version_minor": 0
      },
      "text/plain": [
       "HBox(children=(IntProgress(value=0, description='[Epoch 3/ 10]', max=469, style=ProgressStyle(description_widt…"
      ]
     },
     "metadata": {},
     "output_type": "display_data"
    },
    {
     "name": "stdout",
     "output_type": "stream",
     "text": [
      "Training loss: 0.0460, accuracy: 98.63%\n",
      "Testing loss: 0.0553, accuracy: 98.20%\n"
     ]
    },
    {
     "data": {
      "application/vnd.jupyter.widget-view+json": {
       "model_id": "9eb731c29d25484ea523d6198c4e8ae2",
       "version_major": 2,
       "version_minor": 0
      },
      "text/plain": [
       "HBox(children=(IntProgress(value=0, description='[Epoch 4/ 10]', max=469, style=ProgressStyle(description_widt…"
      ]
     },
     "metadata": {},
     "output_type": "display_data"
    },
    {
     "name": "stdout",
     "output_type": "stream",
     "text": [
      "Training loss: 0.0393, accuracy: 98.82%\n",
      "Testing loss: 0.0427, accuracy: 98.66%\n"
     ]
    },
    {
     "data": {
      "application/vnd.jupyter.widget-view+json": {
       "model_id": "7e648f305c0347b1b729c30ab4641e23",
       "version_major": 2,
       "version_minor": 0
      },
      "text/plain": [
       "HBox(children=(IntProgress(value=0, description='[Epoch 5/ 10]', max=469, style=ProgressStyle(description_widt…"
      ]
     },
     "metadata": {},
     "output_type": "display_data"
    },
    {
     "name": "stdout",
     "output_type": "stream",
     "text": [
      "Training loss: 0.0323, accuracy: 99.01%\n",
      "Testing loss: 0.0427, accuracy: 98.59%\n"
     ]
    },
    {
     "data": {
      "application/vnd.jupyter.widget-view+json": {
       "model_id": "f2599d2aae9442acbafa2d3f20d1d79a",
       "version_major": 2,
       "version_minor": 0
      },
      "text/plain": [
       "HBox(children=(IntProgress(value=0, description='[Epoch 6/ 10]', max=469, style=ProgressStyle(description_widt…"
      ]
     },
     "metadata": {},
     "output_type": "display_data"
    },
    {
     "name": "stdout",
     "output_type": "stream",
     "text": [
      "Training loss: 0.0273, accuracy: 99.19%\n",
      "Testing loss: 0.0428, accuracy: 98.64%\n"
     ]
    },
    {
     "data": {
      "application/vnd.jupyter.widget-view+json": {
       "model_id": "0c08727258b44483a25228dae3a439d8",
       "version_major": 2,
       "version_minor": 0
      },
      "text/plain": [
       "HBox(children=(IntProgress(value=0, description='[Epoch 7/ 10]', max=469, style=ProgressStyle(description_widt…"
      ]
     },
     "metadata": {},
     "output_type": "display_data"
    },
    {
     "name": "stdout",
     "output_type": "stream",
     "text": [
      "Training loss: 0.0240, accuracy: 99.29%\n",
      "Testing loss: 0.0384, accuracy: 98.79%\n"
     ]
    },
    {
     "data": {
      "application/vnd.jupyter.widget-view+json": {
       "model_id": "5a004683d6e248bcbd6613beacf163cd",
       "version_major": 2,
       "version_minor": 0
      },
      "text/plain": [
       "HBox(children=(IntProgress(value=0, description='[Epoch 8/ 10]', max=469, style=ProgressStyle(description_widt…"
      ]
     },
     "metadata": {},
     "output_type": "display_data"
    },
    {
     "name": "stdout",
     "output_type": "stream",
     "text": [
      "Training loss: 0.0204, accuracy: 99.41%\n",
      "Testing loss: 0.0377, accuracy: 98.76%\n"
     ]
    },
    {
     "data": {
      "application/vnd.jupyter.widget-view+json": {
       "model_id": "64ee2d052c684dd6b0b26fcef6c185ae",
       "version_major": 2,
       "version_minor": 0
      },
      "text/plain": [
       "HBox(children=(IntProgress(value=0, description='[Epoch 9/ 10]', max=469, style=ProgressStyle(description_widt…"
      ]
     },
     "metadata": {},
     "output_type": "display_data"
    },
    {
     "name": "stdout",
     "output_type": "stream",
     "text": [
      "Training loss: 0.0186, accuracy: 99.48%\n",
      "Testing loss: 0.0395, accuracy: 98.66%\n"
     ]
    }
   ],
   "source": [
    "main()"
   ]
  },
  {
   "cell_type": "code",
   "execution_count": null,
   "metadata": {},
   "outputs": [],
   "source": []
  }
 ],
 "metadata": {
  "kernelspec": {
   "display_name": "Python 3",
   "language": "python",
   "name": "python3"
  },
  "language_info": {
   "codemirror_mode": {
    "name": "ipython",
    "version": 3
   },
   "file_extension": ".py",
   "mimetype": "text/x-python",
   "name": "python",
   "nbconvert_exporter": "python",
   "pygments_lexer": "ipython3",
   "version": "3.5.2"
  }
 },
 "nbformat": 4,
 "nbformat_minor": 2
}
